{
  "nbformat": 4,
  "nbformat_minor": 0,
  "metadata": {
    "kernelspec": {
      "name": "python3",
      "display_name": "Python 3"
    },
    "language_info": {
      "codemirror_mode": {
        "name": "ipython",
        "version": 3
      },
      "file_extension": ".py",
      "mimetype": "text/x-python",
      "name": "python",
      "nbconvert_exporter": "python",
      "pygments_lexer": "ipython3",
      "version": "3.6.5"
    },
    "colab": {
      "name": "Weld_vgg16_5_classes.ipynb",
      "provenance": [],
      "collapsed_sections": []
    },
    "accelerator": "GPU"
  },
  "cells": [
    {
      "cell_type": "markdown",
      "metadata": {
        "id": "SBjImtWOFKSi",
        "colab_type": "text"
      },
      "source": [
        "\n",
        "# Для распознавания используется предварительно обученная сверточная нейронная сеть VGG16.\n",
        "\n",
        "Перед использованием необходимо скачать и подготовить данные для обучения, проверки и тестирования. Можно использовать пример в ноутбуке data_preparation"
      ]
    },
    {
      "cell_type": "code",
      "metadata": {
        "id": "WqBn4ZdcgmJK",
        "colab_type": "code",
        "colab": {
          "base_uri": "https://localhost:8080/",
          "height": 122
        },
        "outputId": "62d20c5c-106c-4936-ee90-9fa45b93e01e"
      },
      "source": [
        "# Load the Drive helper and mount\n",
        "from google.colab import drive\n",
        "# This will prompt for authorization.\n",
        "drive.mount('/content/drive')"
      ],
      "execution_count": null,
      "outputs": [
        {
          "output_type": "stream",
          "text": [
            "Go to this URL in a browser: https://accounts.google.com/o/oauth2/auth?client_id=947318989803-6bn6qk8qdgf4n4g3pfee6491hc0brc4i.apps.googleusercontent.com&redirect_uri=urn%3aietf%3awg%3aoauth%3a2.0%3aoob&scope=email%20https%3a%2f%2fwww.googleapis.com%2fauth%2fdocs.test%20https%3a%2f%2fwww.googleapis.com%2fauth%2fdrive%20https%3a%2f%2fwww.googleapis.com%2fauth%2fdrive.photos.readonly%20https%3a%2f%2fwww.googleapis.com%2fauth%2fpeopleapi.readonly&response_type=code\n",
            "\n",
            "Enter your authorization code:\n",
            "··········\n",
            "Mounted at /content/drive\n"
          ],
          "name": "stdout"
        }
      ]
    },
    {
      "cell_type": "code",
      "metadata": {
        "id": "k3NN5CARFKSs",
        "colab_type": "code",
        "colab": {}
      },
      "source": [
        "import time\n",
        "start_time = time.time()\n",
        "\n",
        "from tensorflow.python.keras.preprocessing.image import ImageDataGenerator\n",
        "from tensorflow.python.keras.preprocessing import image\n",
        "from tensorflow.python.keras.models import Sequential\n",
        "from tensorflow.python.keras.layers import Activation, Dropout, Flatten, Dense\n",
        "from tensorflow.python.keras.applications import vgg16\n",
        "from tensorflow.python.keras.optimizers import Adam\n",
        "import matplotlib.pyplot as plt\n"
      ],
      "execution_count": null,
      "outputs": []
    },
    {
      "cell_type": "code",
      "metadata": {
        "id": "ERMv884JFKTE",
        "colab_type": "code",
        "colab": {}
      },
      "source": [
        "# Каталог с данными для обучения\n",
        "train_dir = '/content/drive/My Drive/Colab Notebooks/weld_set/ready_ds_254/train_set'\n",
        "# Каталог с данными для проверки\n",
        "val_dir = '/content/drive/My Drive/Colab Notebooks/weld_set/ready_ds_254/validation_set'\n",
        "# Каталог с данными для тестирования\n",
        "test_dir = '/content/drive/My Drive/Colab Notebooks/weld_set/ready_ds_254/test_set'\n",
        "# Размеры изображения\n",
        "img_width, img_height = 128, 128\n",
        "# Размерность тензора на основе изображения для входных данных в нейронную сеть\n",
        "# backend Tensorflow, channels_last\n",
        "input_shape = (img_width, img_height, 3)  # 3- каналы для цвета\n",
        "# Количество классов изображений\n",
        "nb_classes =5\n",
        "# Количество эпох\n",
        "epochs = 70\n",
        "# Размер мини-выборки\n",
        "batch_size = 2\n",
        "# Количество изображений для обучения\n",
        "nb_train_samples = 890\n",
        "# Количество изображений для проверки\n",
        "nb_validation_samples = 190\n",
        "# Количество изображений для тестирования\n",
        "nb_test_samples = 190"
      ],
      "execution_count": null,
      "outputs": []
    },
    {
      "cell_type": "markdown",
      "metadata": {
        "id": "6MqQQ3N5uW83",
        "colab_type": "text"
      },
      "source": [
        "Загружаем предварительно обученную нейронную сеть"
      ]
    },
    {
      "cell_type": "code",
      "metadata": {
        "id": "J5VhoZJYuSGC",
        "colab_type": "code",
        "colab": {
          "base_uri": "https://localhost:8080/",
          "height": 51
        },
        "outputId": "05babe24-addf-4103-d8a5-a96b6d42067c"
      },
      "source": [
        "vgg16_net = vgg16.VGG16(weights='imagenet', # загружаем веса\n",
        "                  include_top=False, # классификатор не вкл\n",
        "                  input_shape=(128, 128, 3))"
      ],
      "execution_count": null,
      "outputs": [
        {
          "output_type": "stream",
          "text": [
            "Downloading data from https://storage.googleapis.com/tensorflow/keras-applications/vgg16/vgg16_weights_tf_dim_ordering_tf_kernels_notop.h5\n",
            "58892288/58889256 [==============================] - 3s 0us/step\n"
          ],
          "name": "stdout"
        }
      ]
    },
    {
      "cell_type": "markdown",
      "metadata": {
        "id": "kqeX-ag6FKUg",
        "colab_type": "text"
      },
      "source": [
        "\"Замораживаем\" веса предварительно обученной нейронной сети VGG16"
      ]
    },
    {
      "cell_type": "code",
      "metadata": {
        "id": "mLYHZqEgFKUi",
        "colab_type": "code",
        "colab": {
          "base_uri": "https://localhost:8080/",
          "height": 799
        },
        "outputId": "e32cc444-ec12-4ceb-c6aa-f12766cefa96"
      },
      "source": [
        "#vgg19_net.trainable = False # запрещаем обучаться\n",
        "vgg16_net.summary()"
      ],
      "execution_count": null,
      "outputs": [
        {
          "output_type": "stream",
          "text": [
            "Model: \"vgg16\"\n",
            "_________________________________________________________________\n",
            "Layer (type)                 Output Shape              Param #   \n",
            "=================================================================\n",
            "input_1 (InputLayer)         [(None, 128, 128, 3)]     0         \n",
            "_________________________________________________________________\n",
            "block1_conv1 (Conv2D)        (None, 128, 128, 64)      1792      \n",
            "_________________________________________________________________\n",
            "block1_conv2 (Conv2D)        (None, 128, 128, 64)      36928     \n",
            "_________________________________________________________________\n",
            "block1_pool (MaxPooling2D)   (None, 64, 64, 64)        0         \n",
            "_________________________________________________________________\n",
            "block2_conv1 (Conv2D)        (None, 64, 64, 128)       73856     \n",
            "_________________________________________________________________\n",
            "block2_conv2 (Conv2D)        (None, 64, 64, 128)       147584    \n",
            "_________________________________________________________________\n",
            "block2_pool (MaxPooling2D)   (None, 32, 32, 128)       0         \n",
            "_________________________________________________________________\n",
            "block3_conv1 (Conv2D)        (None, 32, 32, 256)       295168    \n",
            "_________________________________________________________________\n",
            "block3_conv2 (Conv2D)        (None, 32, 32, 256)       590080    \n",
            "_________________________________________________________________\n",
            "block3_conv3 (Conv2D)        (None, 32, 32, 256)       590080    \n",
            "_________________________________________________________________\n",
            "block3_pool (MaxPooling2D)   (None, 16, 16, 256)       0         \n",
            "_________________________________________________________________\n",
            "block4_conv1 (Conv2D)        (None, 16, 16, 512)       1180160   \n",
            "_________________________________________________________________\n",
            "block4_conv2 (Conv2D)        (None, 16, 16, 512)       2359808   \n",
            "_________________________________________________________________\n",
            "block4_conv3 (Conv2D)        (None, 16, 16, 512)       2359808   \n",
            "_________________________________________________________________\n",
            "block4_pool (MaxPooling2D)   (None, 8, 8, 512)         0         \n",
            "_________________________________________________________________\n",
            "block5_conv1 (Conv2D)        (None, 8, 8, 512)         2359808   \n",
            "_________________________________________________________________\n",
            "block5_conv2 (Conv2D)        (None, 8, 8, 512)         2359808   \n",
            "_________________________________________________________________\n",
            "block5_conv3 (Conv2D)        (None, 8, 8, 512)         2359808   \n",
            "_________________________________________________________________\n",
            "block5_pool (MaxPooling2D)   (None, 4, 4, 512)         0         \n",
            "=================================================================\n",
            "Total params: 14,714,688\n",
            "Trainable params: 14,714,688\n",
            "Non-trainable params: 0\n",
            "_________________________________________________________________\n"
          ],
          "name": "stdout"
        }
      ]
    },
    {
      "cell_type": "code",
      "metadata": {
        "id": "fR73CnRHLdog",
        "colab_type": "code",
        "colab": {
          "base_uri": "https://localhost:8080/",
          "height": 799
        },
        "outputId": "8a58c37d-a1bb-4fbb-8653-e47c74c84a85"
      },
      "source": [
        "for layer in vgg16_net.layers[:5]:\n",
        "    layer.trainable = False\n",
        "vgg16_net.summary()    "
      ],
      "execution_count": null,
      "outputs": [
        {
          "output_type": "stream",
          "text": [
            "Model: \"vgg16\"\n",
            "_________________________________________________________________\n",
            "Layer (type)                 Output Shape              Param #   \n",
            "=================================================================\n",
            "input_1 (InputLayer)         [(None, 128, 128, 3)]     0         \n",
            "_________________________________________________________________\n",
            "block1_conv1 (Conv2D)        (None, 128, 128, 64)      1792      \n",
            "_________________________________________________________________\n",
            "block1_conv2 (Conv2D)        (None, 128, 128, 64)      36928     \n",
            "_________________________________________________________________\n",
            "block1_pool (MaxPooling2D)   (None, 64, 64, 64)        0         \n",
            "_________________________________________________________________\n",
            "block2_conv1 (Conv2D)        (None, 64, 64, 128)       73856     \n",
            "_________________________________________________________________\n",
            "block2_conv2 (Conv2D)        (None, 64, 64, 128)       147584    \n",
            "_________________________________________________________________\n",
            "block2_pool (MaxPooling2D)   (None, 32, 32, 128)       0         \n",
            "_________________________________________________________________\n",
            "block3_conv1 (Conv2D)        (None, 32, 32, 256)       295168    \n",
            "_________________________________________________________________\n",
            "block3_conv2 (Conv2D)        (None, 32, 32, 256)       590080    \n",
            "_________________________________________________________________\n",
            "block3_conv3 (Conv2D)        (None, 32, 32, 256)       590080    \n",
            "_________________________________________________________________\n",
            "block3_pool (MaxPooling2D)   (None, 16, 16, 256)       0         \n",
            "_________________________________________________________________\n",
            "block4_conv1 (Conv2D)        (None, 16, 16, 512)       1180160   \n",
            "_________________________________________________________________\n",
            "block4_conv2 (Conv2D)        (None, 16, 16, 512)       2359808   \n",
            "_________________________________________________________________\n",
            "block4_conv3 (Conv2D)        (None, 16, 16, 512)       2359808   \n",
            "_________________________________________________________________\n",
            "block4_pool (MaxPooling2D)   (None, 8, 8, 512)         0         \n",
            "_________________________________________________________________\n",
            "block5_conv1 (Conv2D)        (None, 8, 8, 512)         2359808   \n",
            "_________________________________________________________________\n",
            "block5_conv2 (Conv2D)        (None, 8, 8, 512)         2359808   \n",
            "_________________________________________________________________\n",
            "block5_conv3 (Conv2D)        (None, 8, 8, 512)         2359808   \n",
            "_________________________________________________________________\n",
            "block5_pool (MaxPooling2D)   (None, 4, 4, 512)         0         \n",
            "=================================================================\n",
            "Total params: 14,714,688\n",
            "Trainable params: 14,602,112\n",
            "Non-trainable params: 112,576\n",
            "_________________________________________________________________\n"
          ],
          "name": "stdout"
        }
      ]
    },
    {
      "cell_type": "markdown",
      "metadata": {
        "id": "hj2L-AeUFKUu",
        "colab_type": "text"
      },
      "source": [
        "## Создаем составную нейронную сеть на основе VGG16"
      ]
    },
    {
      "cell_type": "code",
      "metadata": {
        "id": "Ex9K941zFKUw",
        "colab_type": "code",
        "colab": {}
      },
      "source": [
        "model = Sequential()\n",
        "# Добавляем в модель сеть VGG19 вместо слоя\n",
        "model.add(vgg16_net) # загружаем сверточную часть сети\n",
        "\n",
        "model.add(Flatten())\n",
        "model.add(Dense(1024))\n",
        "model.add(Activation('relu'))\n",
        "model.add(Dropout(0.5))\n",
        "\n",
        "model.add(Dense(1024))\n",
        "model.add(Activation('relu'))\n",
        "#model.add(Dropout(0.5))\n",
        "\n",
        "model.add(Dense(5))\n",
        "model.add(Activation('softmax'))"
      ],
      "execution_count": null,
      "outputs": []
    },
    {
      "cell_type": "code",
      "metadata": {
        "id": "PLmWcBe8FKU1",
        "colab_type": "code",
        "colab": {
          "base_uri": "https://localhost:8080/",
          "height": 459
        },
        "outputId": "c7215e75-91b5-4a0a-9b98-4893ca4447b7"
      },
      "source": [
        "model.summary()"
      ],
      "execution_count": null,
      "outputs": [
        {
          "output_type": "stream",
          "text": [
            "Model: \"sequential\"\n",
            "_________________________________________________________________\n",
            "Layer (type)                 Output Shape              Param #   \n",
            "=================================================================\n",
            "vgg16 (Model)                (None, 4, 4, 512)         14714688  \n",
            "_________________________________________________________________\n",
            "flatten (Flatten)            (None, 8192)              0         \n",
            "_________________________________________________________________\n",
            "dense (Dense)                (None, 1024)              8389632   \n",
            "_________________________________________________________________\n",
            "activation (Activation)      (None, 1024)              0         \n",
            "_________________________________________________________________\n",
            "dropout (Dropout)            (None, 1024)              0         \n",
            "_________________________________________________________________\n",
            "dense_1 (Dense)              (None, 1024)              1049600   \n",
            "_________________________________________________________________\n",
            "activation_1 (Activation)    (None, 1024)              0         \n",
            "_________________________________________________________________\n",
            "dense_2 (Dense)              (None, 5)                 5125      \n",
            "_________________________________________________________________\n",
            "activation_2 (Activation)    (None, 5)                 0         \n",
            "=================================================================\n",
            "Total params: 24,159,045\n",
            "Trainable params: 24,046,469\n",
            "Non-trainable params: 112,576\n",
            "_________________________________________________________________\n"
          ],
          "name": "stdout"
        }
      ]
    },
    {
      "cell_type": "markdown",
      "metadata": {
        "id": "AgTYfZTxFKU-",
        "colab_type": "text"
      },
      "source": [
        "Компилируем составную нейронную сеть"
      ]
    },
    {
      "cell_type": "code",
      "metadata": {
        "id": "On0mYH1aFKU_",
        "colab_type": "code",
        "colab": {}
      },
      "source": [
        "model.compile(loss='categorical_crossentropy',\n",
        "              optimizer=tf.keras.optimizers.Adam(0.001), \n",
        "              metrics=[\"accuracy\"])\n",
        "\n",
        "Стохастический оптимизатор градиентного спуска.\n",
        "lr: float> = 0. Скорость обучения.\n",
        "momentum: float> = 0. Параметр, который ускоряет SGD в соответствующем направлении и гасит колебания."
      ],
      "execution_count": null,
      "outputs": []
    },
    {
      "cell_type": "code",
      "metadata": {
        "id": "pGsWQHd4TxS4",
        "colab_type": "code",
        "colab": {}
      },
      "source": [
        "import tensorflow as tf\n",
        "model.compile(loss='categorical_crossentropy',\n",
        "              optimizer= tf.keras.optimizers.SGD(lr=0.0001, momentum=0.9), \n",
        "              metrics=[\"accuracy\"])"
      ],
      "execution_count": null,
      "outputs": []
    },
    {
      "cell_type": "markdown",
      "metadata": {
        "id": "uCl177Crvr9Q",
        "colab_type": "text"
      },
      "source": [
        "#Создаем генератор изображений\n",
        "Генератор изображений создается на основе класса ImageDataGenerator. Генератор делит значения всех пикселов изображения на 255."
      ]
    },
    {
      "cell_type": "code",
      "metadata": {
        "id": "bVQQpnOgvlLY",
        "colab_type": "code",
        "colab": {
          "base_uri": "https://localhost:8080/",
          "height": 68
        },
        "outputId": "54eaef73-b6cb-49bb-c56f-9c57db680d98"
      },
      "source": [
        "datagen = ImageDataGenerator(rescale=1. / 255)\n",
        "\n",
        "#Генератор данных для обучения на основе изображений из каталога\n",
        "train_generator = datagen.flow_from_directory(\n",
        "    train_dir,\n",
        "    target_size=(img_width, img_height),\n",
        "    batch_size=batch_size,\n",
        "    class_mode='categorical')\n",
        "\n",
        "# для проверки \n",
        "val_generator = datagen.flow_from_directory(\n",
        "    val_dir,\n",
        "    target_size=(img_width, img_height),\n",
        "    batch_size=batch_size,\n",
        "    class_mode='categorical')\n",
        "\n",
        "#для тестирования \n",
        "test_generator = datagen.flow_from_directory(\n",
        "    test_dir,\n",
        "    target_size=(img_width, img_height),\n",
        "    batch_size=batch_size,\n",
        "    class_mode='categorical',\n",
        "    shuffle = False\n",
        "    )"
      ],
      "execution_count": null,
      "outputs": [
        {
          "output_type": "stream",
          "text": [
            "Found 890 images belonging to 5 classes.\n",
            "Found 190 images belonging to 5 classes.\n",
            "Found 190 images belonging to 5 classes.\n"
          ],
          "name": "stdout"
        }
      ]
    },
    {
      "cell_type": "code",
      "metadata": {
        "id": "5ZZTjRAEvsj0",
        "colab_type": "code",
        "colab": {
          "base_uri": "https://localhost:8080/",
          "height": 180
        },
        "outputId": "1db6c605-1cf2-4edc-9efb-73b90c4fadcb"
      },
      "source": [
        "# Создаем EarlyStopping Callback\n",
        "early_stopping_callback = EarlyStopping(monitor='val_accuracy', patience=2) # если val_acc два раза подряд меньше чем 3 значение с конца то стоп patience=2"
      ],
      "execution_count": null,
      "outputs": [
        {
          "output_type": "error",
          "ename": "NameError",
          "evalue": "ignored",
          "traceback": [
            "\u001b[0;31m---------------------------------------------------------------------------\u001b[0m",
            "\u001b[0;31mNameError\u001b[0m                                 Traceback (most recent call last)",
            "\u001b[0;32m<ipython-input-9-dfe570f8986f>\u001b[0m in \u001b[0;36m<module>\u001b[0;34m()\u001b[0m\n\u001b[1;32m      1\u001b[0m \u001b[0;31m# Создаем EarlyStopping Callback\u001b[0m\u001b[0;34m\u001b[0m\u001b[0;34m\u001b[0m\u001b[0;34m\u001b[0m\u001b[0m\n\u001b[0;32m----> 2\u001b[0;31m \u001b[0mearly_stopping_callback\u001b[0m \u001b[0;34m=\u001b[0m \u001b[0mEarlyStopping\u001b[0m\u001b[0;34m(\u001b[0m\u001b[0mmonitor\u001b[0m\u001b[0;34m=\u001b[0m\u001b[0;34m'val_accuracy'\u001b[0m\u001b[0;34m,\u001b[0m \u001b[0mpatience\u001b[0m\u001b[0;34m=\u001b[0m\u001b[0;36m2\u001b[0m\u001b[0;34m)\u001b[0m \u001b[0;31m# если val_acc два раза подряд меньше чем 3 значение с конца то стоп patience=2\u001b[0m\u001b[0;34m\u001b[0m\u001b[0;34m\u001b[0m\u001b[0m\n\u001b[0m",
            "\u001b[0;31mNameError\u001b[0m: name 'EarlyStopping' is not defined"
          ]
        }
      ]
    },
    {
      "cell_type": "markdown",
      "metadata": {
        "id": "LdL8saihFKVE",
        "colab_type": "text"
      },
      "source": [
        "## Обучаем модель с использованием генераторов\n",
        "\n",
        "train_generator - генератор данных для обучения\n",
        "\n",
        "validation_data - генератор данных для проверки"
      ]
    },
    {
      "cell_type": "code",
      "metadata": {
        "id": "cH3CG6J-FKVG",
        "colab_type": "code",
        "colab": {
          "base_uri": "https://localhost:8080/",
          "height": 765
        },
        "outputId": "f24f9542-7eea-4d31-bb4b-659b90445426"
      },
      "source": [
        "model.fit_generator(\n",
        "    train_generator, # с учетом расширения данных\n",
        "    steps_per_epoch=nb_train_samples // batch_size, # генератор может работать бесконечно, поэтому указываем количество шагов на эпоху // batch_size\n",
        "    epochs=20,\n",
        "    validation_data=val_generator, # для проверки\n",
        "    validation_steps=nb_validation_samples // batch_size # кол-во шагов // batch_size\n",
        "    ) "
      ],
      "execution_count": null,
      "outputs": [
        {
          "output_type": "stream",
          "text": [
            "WARNING:tensorflow:From <ipython-input-12-88afc02b40a1>:6: Model.fit_generator (from tensorflow.python.keras.engine.training) is deprecated and will be removed in a future version.\n",
            "Instructions for updating:\n",
            "Please use Model.fit, which supports generators.\n",
            "Epoch 1/20\n",
            "445/445 [==============================] - 320s 720ms/step - loss: 1.6684 - accuracy: 0.1820 - val_loss: 1.6096 - val_accuracy: 0.2000\n",
            "Epoch 2/20\n",
            "445/445 [==============================] - 25s 56ms/step - loss: 1.6141 - accuracy: 0.2326 - val_loss: 1.6965 - val_accuracy: 0.2000\n",
            "Epoch 3/20\n",
            "445/445 [==============================] - 25s 57ms/step - loss: 1.5977 - accuracy: 0.2494 - val_loss: 1.5852 - val_accuracy: 0.2316\n",
            "Epoch 4/20\n",
            "445/445 [==============================] - 25s 56ms/step - loss: 1.5315 - accuracy: 0.3022 - val_loss: 1.4440 - val_accuracy: 0.3789\n",
            "Epoch 5/20\n",
            "445/445 [==============================] - 24s 55ms/step - loss: 1.3866 - accuracy: 0.3685 - val_loss: 1.3188 - val_accuracy: 0.4421\n",
            "Epoch 6/20\n",
            "445/445 [==============================] - 25s 55ms/step - loss: 1.1842 - accuracy: 0.4944 - val_loss: 1.0921 - val_accuracy: 0.5368\n",
            "Epoch 7/20\n",
            "445/445 [==============================] - 25s 55ms/step - loss: 0.9958 - accuracy: 0.6101 - val_loss: 0.9220 - val_accuracy: 0.5895\n",
            "Epoch 8/20\n",
            "445/445 [==============================] - 25s 56ms/step - loss: 0.9183 - accuracy: 0.6494 - val_loss: 0.7345 - val_accuracy: 0.7263\n",
            "Epoch 9/20\n",
            "445/445 [==============================] - 25s 56ms/step - loss: 0.8786 - accuracy: 0.6517 - val_loss: 0.5514 - val_accuracy: 0.8263\n",
            "Epoch 10/20\n",
            "445/445 [==============================] - 25s 56ms/step - loss: 0.6123 - accuracy: 0.7753 - val_loss: 0.4860 - val_accuracy: 0.8368\n",
            "Epoch 11/20\n",
            "445/445 [==============================] - 25s 56ms/step - loss: 0.5319 - accuracy: 0.8112 - val_loss: 0.5542 - val_accuracy: 0.7737\n",
            "Epoch 12/20\n",
            "445/445 [==============================] - 25s 55ms/step - loss: 0.5146 - accuracy: 0.8135 - val_loss: 0.5245 - val_accuracy: 0.8000\n",
            "Epoch 13/20\n",
            "445/445 [==============================] - 25s 56ms/step - loss: 0.4278 - accuracy: 0.8382 - val_loss: 0.4093 - val_accuracy: 0.8526\n",
            "Epoch 14/20\n",
            "445/445 [==============================] - 25s 56ms/step - loss: 0.4285 - accuracy: 0.8449 - val_loss: 0.4013 - val_accuracy: 0.8737\n",
            "Epoch 15/20\n",
            "445/445 [==============================] - 25s 56ms/step - loss: 0.3239 - accuracy: 0.8865 - val_loss: 0.6937 - val_accuracy: 0.7895\n",
            "Epoch 16/20\n",
            "445/445 [==============================] - 25s 56ms/step - loss: 0.3773 - accuracy: 0.8596 - val_loss: 0.7851 - val_accuracy: 0.7579\n",
            "Epoch 17/20\n",
            "445/445 [==============================] - 25s 55ms/step - loss: 0.3945 - accuracy: 0.8652 - val_loss: 0.3285 - val_accuracy: 0.8789\n",
            "Epoch 18/20\n",
            "445/445 [==============================] - 25s 56ms/step - loss: 0.2746 - accuracy: 0.9090 - val_loss: 0.3402 - val_accuracy: 0.8895\n",
            "Epoch 19/20\n",
            "445/445 [==============================] - 25s 56ms/step - loss: 0.2916 - accuracy: 0.8978 - val_loss: 0.3822 - val_accuracy: 0.8737\n",
            "Epoch 20/20\n",
            "445/445 [==============================] - 25s 56ms/step - loss: 0.2509 - accuracy: 0.9124 - val_loss: 0.4045 - val_accuracy: 0.8895\n"
          ],
          "name": "stdout"
        },
        {
          "output_type": "execute_result",
          "data": {
            "text/plain": [
              "<tensorflow.python.keras.callbacks.History at 0x7f7fe00307f0>"
            ]
          },
          "metadata": {
            "tags": []
          },
          "execution_count": 12
        }
      ]
    },
    {
      "cell_type": "markdown",
      "metadata": {
        "id": "N--gTjixFKVO",
        "colab_type": "text"
      },
      "source": [
        "## Оцениваем качество работы сети с помощью генератора"
      ]
    },
    {
      "cell_type": "code",
      "metadata": {
        "id": "UFRNao4M0xgd",
        "colab_type": "code",
        "colab": {
          "base_uri": "https://localhost:8080/",
          "height": 374
        },
        "outputId": "ed53acbc-2404-4783-a1b1-fea8ccf9b55c"
      },
      "source": [
        "scores = model.evaluate_generator(test_generator, nb_test_samples // batch_size)\n",
        "print(\"Аккуратность на тестовых данных: %.2f%%\" % (scores[1]*100))\n",
        "print(\"--- %s minutes ---\" % ((time.time() - start_time) / 60))\n",
        "\n",
        "\n",
        "# стороит массив класс*кол-во изображений [вероятность принадлежности класса]\n",
        "# array([[3.2083929e-01, 2.3337396e-02, 6.5582341e-01], -> ответ 2класс 65% веростность\n",
        "pred = model.predict_generator(test_generator,steps = len(test_generator), verbose = 1)\n",
        "\n",
        "true_classes = test_generator.classes  # array([0, 0, 0,...1,1,1,...2,2,2,...],dtype=int32)\n",
        "class_labels = list(test_generator.class_indices.keys())  #['CR', 'GW', 'PO']\n",
        "from sklearn.metrics import classification_report\n",
        "\n",
        "## array([[3.2083929e-01, 2.3337396e-02, 6.5582341e-01], -> ответ 2класс 65% веростность\n",
        "#из трех выбирает больший по горизонтали и записывает индекс максимума\n",
        "import numpy\n",
        "predicted_classes = numpy.argmax(pred, axis=1) # axis=1-горизонтально\n",
        "\n",
        "report = classification_report(true_classes, predicted_classes, target_names=class_labels)\n",
        "print(report) "
      ],
      "execution_count": null,
      "outputs": [
        {
          "output_type": "stream",
          "text": [
            "WARNING:tensorflow:From <ipython-input-13-fe408de7eac0>:1: Model.evaluate_generator (from tensorflow.python.keras.engine.training) is deprecated and will be removed in a future version.\n",
            "Instructions for updating:\n",
            "Please use Model.evaluate, which supports generators.\n",
            "Аккуратность на тестовых данных: 78.95%\n",
            "--- 16.14692031145096 minutes ---\n",
            "WARNING:tensorflow:From <ipython-input-13-fe408de7eac0>:8: Model.predict_generator (from tensorflow.python.keras.engine.training) is deprecated and will be removed in a future version.\n",
            "Instructions for updating:\n",
            "Please use Model.predict, which supports generators.\n",
            "95/95 [==============================] - 2s 19ms/step\n",
            "                    precision    recall  f1-score   support\n",
            "\n",
            "         good well       0.97      0.95      0.96        38\n",
            "longitudinal crack       0.86      0.82      0.84        38\n",
            "          porosity       0.57      0.97      0.72        38\n",
            "   slag inclusions       0.70      0.37      0.48        38\n",
            "  transverse crack       1.00      0.84      0.91        38\n",
            "\n",
            "          accuracy                           0.79       190\n",
            "         macro avg       0.82      0.79      0.78       190\n",
            "      weighted avg       0.82      0.79      0.78       190\n",
            "\n"
          ],
          "name": "stdout"
        }
      ]
    },
    {
      "cell_type": "code",
      "metadata": {
        "id": "wUp8b23yVet9",
        "colab_type": "code",
        "colab": {
          "base_uri": "https://localhost:8080/",
          "height": 51
        },
        "outputId": "66dc9199-230d-4769-8229-5105555ffb96"
      },
      "source": [
        "print(\"Сохраняем сеть\")\n",
        "# Сохраняем сеть для последующего использования\n",
        "# Генерируем описание модели в формате json\n",
        "model_json = model.to_json()\n",
        "json_file = open(\"/content/drive/My Drive/Colab Notebooks/save_п/weld_vgg16_5_classes254_20_1.json\", \"w\")\n",
        "# Записываем архитектуру сети в файл\n",
        "json_file.write(model_json)\n",
        "json_file.close()\n",
        "# Записываем данные о весах в файл\n",
        "model.save_weights(\"/content/drive/My Drive/Colab Notebooks/save_п/weld_vgg16_5_classes254_20_1.h5\")\n",
        "print(\"Сохранение сети завершено\")\n",
        "#model.save('/content/drive/My Drive/Colab Notebooks/data_augmentation.h5')"
      ],
      "execution_count": null,
      "outputs": [
        {
          "output_type": "stream",
          "text": [
            "Сохраняем сеть\n",
            "Сохранение сети завершено\n"
          ],
          "name": "stdout"
        }
      ]
    }
  ]
}